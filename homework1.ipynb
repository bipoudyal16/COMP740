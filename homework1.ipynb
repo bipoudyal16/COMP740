{
 "cells": [
  {
   "cell_type": "code",
   "execution_count": 96,
   "metadata": {},
   "outputs": [],
   "source": [
    "import pandas as pd\n",
    "import numpy as np\n",
    "from matplotlib import pyplot as plt\n",
    "np.set_printoptions(precision=3, suppress=True)\n",
    "pd.options.display.float_format = '${:,.3f}'.format\n"
   ]
  },
  {
   "cell_type": "markdown",
   "metadata": {},
   "source": [
    "Perform descriptive analysis and determine if the data contain null values"
   ]
  },
  {
   "cell_type": "code",
   "execution_count": 87,
   "metadata": {},
   "outputs": [],
   "source": [
    "header = [\"variance\", \"skew\", \"curtsies\", \"entropy\", \"classes\"]\n",
    "url = \"https://archive.ics.uci.edu/ml/machine-learning-databases/00267/data_banknote_authentication.txt\"\n",
    "df = pd.read_csv(url, names=header)"
   ]
  },
  {
   "cell_type": "code",
   "execution_count": 88,
   "metadata": {},
   "outputs": [
    {
     "data": {
      "text/html": [
       "<div>\n",
       "<style scoped>\n",
       "    .dataframe tbody tr th:only-of-type {\n",
       "        vertical-align: middle;\n",
       "    }\n",
       "\n",
       "    .dataframe tbody tr th {\n",
       "        vertical-align: top;\n",
       "    }\n",
       "\n",
       "    .dataframe thead th {\n",
       "        text-align: right;\n",
       "    }\n",
       "</style>\n",
       "<table border=\"1\" class=\"dataframe\">\n",
       "  <thead>\n",
       "    <tr style=\"text-align: right;\">\n",
       "      <th></th>\n",
       "      <th>variance</th>\n",
       "      <th>skew</th>\n",
       "      <th>curtsies</th>\n",
       "      <th>entropy</th>\n",
       "      <th>classes</th>\n",
       "    </tr>\n",
       "  </thead>\n",
       "  <tbody>\n",
       "    <tr>\n",
       "      <th>0</th>\n",
       "      <td>$3.622</td>\n",
       "      <td>$8.666</td>\n",
       "      <td>$-2.807</td>\n",
       "      <td>$-0.447</td>\n",
       "      <td>0</td>\n",
       "    </tr>\n",
       "    <tr>\n",
       "      <th>1</th>\n",
       "      <td>$4.546</td>\n",
       "      <td>$8.167</td>\n",
       "      <td>$-2.459</td>\n",
       "      <td>$-1.462</td>\n",
       "      <td>0</td>\n",
       "    </tr>\n",
       "    <tr>\n",
       "      <th>2</th>\n",
       "      <td>$3.866</td>\n",
       "      <td>$-2.638</td>\n",
       "      <td>$1.924</td>\n",
       "      <td>$0.106</td>\n",
       "      <td>0</td>\n",
       "    </tr>\n",
       "    <tr>\n",
       "      <th>3</th>\n",
       "      <td>$3.457</td>\n",
       "      <td>$9.523</td>\n",
       "      <td>$-4.011</td>\n",
       "      <td>$-3.594</td>\n",
       "      <td>0</td>\n",
       "    </tr>\n",
       "    <tr>\n",
       "      <th>4</th>\n",
       "      <td>$0.329</td>\n",
       "      <td>$-4.455</td>\n",
       "      <td>$4.572</td>\n",
       "      <td>$-0.989</td>\n",
       "      <td>0</td>\n",
       "    </tr>\n",
       "  </tbody>\n",
       "</table>\n",
       "</div>"
      ],
      "text/plain": [
       "   variance    skew  curtsies  entropy  classes\n",
       "0    $3.622  $8.666   $-2.807  $-0.447        0\n",
       "1    $4.546  $8.167   $-2.459  $-1.462        0\n",
       "2    $3.866 $-2.638    $1.924   $0.106        0\n",
       "3    $3.457  $9.523   $-4.011  $-3.594        0\n",
       "4    $0.329 $-4.455    $4.572  $-0.989        0"
      ]
     },
     "execution_count": 88,
     "metadata": {},
     "output_type": "execute_result"
    }
   ],
   "source": [
    "df.head()"
   ]
  },
  {
   "cell_type": "code",
   "execution_count": 89,
   "metadata": {},
   "outputs": [
    {
     "name": "stdout",
     "output_type": "stream",
     "text": [
      "<class 'pandas.core.frame.DataFrame'>\n",
      "RangeIndex: 1372 entries, 0 to 1371\n",
      "Data columns (total 5 columns):\n",
      " #   Column    Non-Null Count  Dtype  \n",
      "---  ------    --------------  -----  \n",
      " 0   variance  1372 non-null   float64\n",
      " 1   skew      1372 non-null   float64\n",
      " 2   curtsies  1372 non-null   float64\n",
      " 3   entropy   1372 non-null   float64\n",
      " 4   classes   1372 non-null   int64  \n",
      "dtypes: float64(4), int64(1)\n",
      "memory usage: 53.7 KB\n"
     ]
    }
   ],
   "source": [
    "df.info()"
   ]
  },
  {
   "cell_type": "code",
   "execution_count": 90,
   "metadata": {},
   "outputs": [
    {
     "data": {
      "text/plain": [
       "(1372, 5)"
      ]
     },
     "execution_count": 90,
     "metadata": {},
     "output_type": "execute_result"
    }
   ],
   "source": [
    "df.shape"
   ]
  },
  {
   "cell_type": "code",
   "execution_count": 91,
   "metadata": {},
   "outputs": [
    {
     "data": {
      "text/plain": [
       "5"
      ]
     },
     "execution_count": 91,
     "metadata": {},
     "output_type": "execute_result"
    }
   ],
   "source": [
    "df.columns.size"
   ]
  },
  {
   "cell_type": "code",
   "execution_count": 92,
   "metadata": {},
   "outputs": [
    {
     "data": {
      "text/plain": [
       "Index(['variance', 'skew', 'curtsies', 'entropy', 'classes'], dtype='object')"
      ]
     },
     "execution_count": 92,
     "metadata": {},
     "output_type": "execute_result"
    }
   ],
   "source": [
    "df.columns"
   ]
  },
  {
   "cell_type": "code",
   "execution_count": 93,
   "metadata": {},
   "outputs": [
    {
     "data": {
      "text/plain": [
       "RangeIndex(start=0, stop=1372, step=1)"
      ]
     },
     "execution_count": 93,
     "metadata": {},
     "output_type": "execute_result"
    }
   ],
   "source": [
    "df.index"
   ]
  },
  {
   "cell_type": "markdown",
   "metadata": {},
   "source": [
    "Visualize the data (e.g., as shown in the class example)"
   ]
  },
  {
   "cell_type": "code",
   "execution_count": 94,
   "metadata": {},
   "outputs": [
    {
     "data": {
      "text/plain": [
       "array([[<matplotlib.axes._subplots.AxesSubplot object at 0x0000020FAB6E6940>,\n",
       "        <matplotlib.axes._subplots.AxesSubplot object at 0x0000020FAB5E3580>],\n",
       "       [<matplotlib.axes._subplots.AxesSubplot object at 0x0000020FAB81CC70>,\n",
       "        <matplotlib.axes._subplots.AxesSubplot object at 0x0000020FAB716430>],\n",
       "       [<matplotlib.axes._subplots.AxesSubplot object at 0x0000020FAB742BB0>,\n",
       "        <matplotlib.axes._subplots.AxesSubplot object at 0x0000020FAB6413D0>]],\n",
       "      dtype=object)"
      ]
     },
     "execution_count": 94,
     "metadata": {},
     "output_type": "execute_result"
    },
    {
     "data": {
      "image/png": "[encoded data removed]",
      "text/plain": [
       "<Figure size 1080x720 with 6 Axes>"
      ]
     },
     "metadata": {
      "needs_background": "light"
     },
     "output_type": "display_data"
    }
   ],
   "source": [
    "df.hist(edgecolor = 'white', figsize = (15,10))"
   ]
  },
  {
   "cell_type": "code",
   "execution_count": 95,
   "metadata": {},
   "outputs": [
    {
     "data": {
      "text/plain": [
       "<matplotlib.axes._subplots.AxesSubplot at 0x20fab6bb190>"
      ]
     },
     "execution_count": 95,
     "metadata": {},
     "output_type": "execute_result"
    },
    {
     "data": {
      "image/png": "[encoded data removed]",
      "text/plain": [
       "<Figure size 432x288 with 1 Axes>"
      ]
     },
     "metadata": {
      "needs_background": "light"
     },
     "output_type": "display_data"
    }
   ],
   "source": [
    "df.plot.scatter(x=\"curtsies\", y=\"skew\", c=\"red\")"
   ]
  },
  {
   "cell_type": "markdown",
   "metadata": {},
   "source": [
    " Train the model with all features, calculate the accuracy of the model."
   ]
  },
  {
   "cell_type": "code",
   "execution_count": 97,
   "metadata": {},
   "outputs": [
    {
     "data": {
      "text/plain": [
       "variance    $0.434\n",
       "skew        $1.922\n",
       "curtsies    $1.398\n",
       "entropy    $-1.192\n",
       "classes     $0.445\n",
       "dtype: float64"
      ]
     },
     "execution_count": 97,
     "metadata": {},
     "output_type": "execute_result"
    }
   ],
   "source": [
    "df.mean()"
   ]
  },
  {
   "cell_type": "code",
   "execution_count": 98,
   "metadata": {},
   "outputs": [
    {
     "data": {
      "text/plain": [
       "variance    $0.496\n",
       "skew        $2.320\n",
       "curtsies    $0.617\n",
       "entropy    $-0.587\n",
       "classes     $0.000\n",
       "dtype: float64"
      ]
     },
     "execution_count": 98,
     "metadata": {},
     "output_type": "execute_result"
    }
   ],
   "source": [
    "df.median()"
   ]
  },
  {
   "cell_type": "code",
   "execution_count": 99,
   "metadata": {},
   "outputs": [
    {
     "data": {
      "text/plain": [
       "variance    0\n",
       "skew        0\n",
       "curtsies    0\n",
       "entropy     0\n",
       "classes     0\n",
       "dtype: int64"
      ]
     },
     "execution_count": 99,
     "metadata": {},
     "output_type": "execute_result"
    }
   ],
   "source": [
    "df.isnull().sum()"
   ]
  },
  {
   "cell_type": "code",
   "execution_count": 103,
   "metadata": {},
   "outputs": [
    {
     "data": {
      "text/plain": [
       "-1.191656520043731"
      ]
     },
     "execution_count": 103,
     "metadata": {},
     "output_type": "execute_result"
    }
   ],
   "source": [
    "average = df['entropy'].mean()\n",
    "average"
   ]
  },
  {
   "cell_type": "code",
   "execution_count": 105,
   "metadata": {},
   "outputs": [
    {
     "data": {
      "text/plain": [
       "-0.58665"
      ]
     },
     "execution_count": 105,
     "metadata": {},
     "output_type": "execute_result"
    }
   ],
   "source": [
    "med_en =  df['entropy'].median()\n",
    "med_en"
   ]
  },
  {
   "cell_type": "code",
   "execution_count": 106,
   "metadata": {},
   "outputs": [
    {
     "data": {
      "text/plain": [
       "126"
      ]
     },
     "execution_count": 106,
     "metadata": {},
     "output_type": "execute_result"
    }
   ],
   "source": [
    "max_index = df[\"skew\"].idxmax()\n",
    "max_index"
   ]
  },
  {
   "cell_type": "code",
   "execution_count": 107,
   "metadata": {},
   "outputs": [
    {
     "data": {
      "text/plain": [
       "3.3285"
      ]
     },
     "execution_count": 107,
     "metadata": {},
     "output_type": "execute_result"
    }
   ],
   "source": [
    "df['curtsies'][max_index]"
   ]
  },
  {
   "cell_type": "code",
   "execution_count": 109,
   "metadata": {},
   "outputs": [
    {
     "data": {
      "text/plain": [
       "2.842762586278562"
      ]
     },
     "execution_count": 109,
     "metadata": {},
     "output_type": "execute_result"
    }
   ],
   "source": [
    "standard_dev = df['variance'].std()\n",
    "standard_dev"
   ]
  },
  {
   "cell_type": "markdown",
   "metadata": {},
   "source": [
    " Train the model with a subset of the features and compare the accuracy with last step"
   ]
  },
  {
   "cell_type": "code",
   "execution_count": 110,
   "metadata": {},
   "outputs": [
    {
     "data": {
      "text/plain": [
       "(1372, 4)"
      ]
     },
     "execution_count": 110,
     "metadata": {},
     "output_type": "execute_result"
    }
   ],
   "source": [
    "df2=df.drop(\"classes\", axis=1)\n",
    "df2.shape"
   ]
  },
  {
   "cell_type": "code",
   "execution_count": 112,
   "metadata": {},
   "outputs": [
    {
     "data": {
      "text/html": [
       "<div>\n",
       "<style scoped>\n",
       "    .dataframe tbody tr th:only-of-type {\n",
       "        vertical-align: middle;\n",
       "    }\n",
       "\n",
       "    .dataframe tbody tr th {\n",
       "        vertical-align: top;\n",
       "    }\n",
       "\n",
       "    .dataframe thead th {\n",
       "        text-align: right;\n",
       "    }\n",
       "</style>\n",
       "<table border=\"1\" class=\"dataframe\">\n",
       "  <thead>\n",
       "    <tr style=\"text-align: right;\">\n",
       "      <th></th>\n",
       "      <th>variance</th>\n",
       "      <th>skew</th>\n",
       "      <th>curtsies</th>\n",
       "      <th>entropy</th>\n",
       "    </tr>\n",
       "  </thead>\n",
       "  <tbody>\n",
       "    <tr>\n",
       "      <th>0</th>\n",
       "      <td>$3.622</td>\n",
       "      <td>$8.666</td>\n",
       "      <td>$-2.807</td>\n",
       "      <td>$-0.447</td>\n",
       "    </tr>\n",
       "    <tr>\n",
       "      <th>1</th>\n",
       "      <td>$4.546</td>\n",
       "      <td>$8.167</td>\n",
       "      <td>$-2.459</td>\n",
       "      <td>$-1.462</td>\n",
       "    </tr>\n",
       "    <tr>\n",
       "      <th>2</th>\n",
       "      <td>$3.866</td>\n",
       "      <td>$-2.638</td>\n",
       "      <td>$1.924</td>\n",
       "      <td>$0.106</td>\n",
       "    </tr>\n",
       "    <tr>\n",
       "      <th>3</th>\n",
       "      <td>$3.457</td>\n",
       "      <td>$9.523</td>\n",
       "      <td>$-4.011</td>\n",
       "      <td>$-3.594</td>\n",
       "    </tr>\n",
       "    <tr>\n",
       "      <th>4</th>\n",
       "      <td>$0.329</td>\n",
       "      <td>$-4.455</td>\n",
       "      <td>$4.572</td>\n",
       "      <td>$-0.989</td>\n",
       "    </tr>\n",
       "  </tbody>\n",
       "</table>\n",
       "</div>"
      ],
      "text/plain": [
       "   variance    skew  curtsies  entropy\n",
       "0    $3.622  $8.666   $-2.807  $-0.447\n",
       "1    $4.546  $8.167   $-2.459  $-1.462\n",
       "2    $3.866 $-2.638    $1.924   $0.106\n",
       "3    $3.457  $9.523   $-4.011  $-3.594\n",
       "4    $0.329 $-4.455    $4.572  $-0.989"
      ]
     },
     "execution_count": 112,
     "metadata": {},
     "output_type": "execute_result"
    }
   ],
   "source": [
    "df2.head()"
   ]
  },
  {
   "cell_type": "markdown",
   "metadata": {},
   "source": [
    "shows min for entropy and max for variance and skew as index "
   ]
  },
  {
   "cell_type": "code",
   "execution_count": 116,
   "metadata": {},
   "outputs": [
    {
     "data": {
      "text/html": [
       "<div>\n",
       "<style scoped>\n",
       "    .dataframe tbody tr th:only-of-type {\n",
       "        vertical-align: middle;\n",
       "    }\n",
       "\n",
       "    .dataframe tbody tr th {\n",
       "        vertical-align: top;\n",
       "    }\n",
       "\n",
       "    .dataframe thead th {\n",
       "        text-align: right;\n",
       "    }\n",
       "</style>\n",
       "<table border=\"1\" class=\"dataframe\">\n",
       "  <thead>\n",
       "    <tr style=\"text-align: right;\">\n",
       "      <th></th>\n",
       "      <th>entropy</th>\n",
       "      <th>variance</th>\n",
       "    </tr>\n",
       "    <tr>\n",
       "      <th>skew</th>\n",
       "      <th></th>\n",
       "      <th></th>\n",
       "    </tr>\n",
       "  </thead>\n",
       "  <tbody>\n",
       "    <tr>\n",
       "      <th>$-13.773</th>\n",
       "      <td>$-2.032</td>\n",
       "      <td>$-3.379</td>\n",
       "    </tr>\n",
       "    <tr>\n",
       "      <th>$-13.678</th>\n",
       "      <td>$-2.618</td>\n",
       "      <td>$-3.696</td>\n",
       "    </tr>\n",
       "    <tr>\n",
       "      <th>$-13.659</th>\n",
       "      <td>$-2.493</td>\n",
       "      <td>$-3.599</td>\n",
       "    </tr>\n",
       "    <tr>\n",
       "      <th>$-13.498</th>\n",
       "      <td>$-3.320</td>\n",
       "      <td>$-4.003</td>\n",
       "    </tr>\n",
       "    <tr>\n",
       "      <th>$-13.459</th>\n",
       "      <td>$-2.777</td>\n",
       "      <td>$-3.750</td>\n",
       "    </tr>\n",
       "    <tr>\n",
       "      <th>...</th>\n",
       "      <td>...</td>\n",
       "      <td>...</td>\n",
       "    </tr>\n",
       "    <tr>\n",
       "      <th>$12.540</th>\n",
       "      <td>$-3.526</td>\n",
       "      <td>$-2.226</td>\n",
       "    </tr>\n",
       "    <tr>\n",
       "      <th>$12.606</th>\n",
       "      <td>$-5.789</td>\n",
       "      <td>$-2.398</td>\n",
       "    </tr>\n",
       "    <tr>\n",
       "      <th>$12.625</th>\n",
       "      <td>$-7.661</td>\n",
       "      <td>$-2.447</td>\n",
       "    </tr>\n",
       "    <tr>\n",
       "      <th>$12.730</th>\n",
       "      <td>$-7.642</td>\n",
       "      <td>$-2.460</td>\n",
       "    </tr>\n",
       "    <tr>\n",
       "      <th>$12.952</th>\n",
       "      <td>$-5.943</td>\n",
       "      <td>$-2.343</td>\n",
       "    </tr>\n",
       "  </tbody>\n",
       "</table>\n",
       "<p>1256 rows × 2 columns</p>\n",
       "</div>"
      ],
      "text/plain": [
       "          entropy  variance\n",
       "skew                       \n",
       "$-13.773  $-2.032   $-3.379\n",
       "$-13.678  $-2.618   $-3.696\n",
       "$-13.659  $-2.493   $-3.599\n",
       "$-13.498  $-3.320   $-4.003\n",
       "$-13.459  $-2.777   $-3.750\n",
       "...           ...       ...\n",
       "$12.540   $-3.526   $-2.226\n",
       "$12.606   $-5.789   $-2.398\n",
       "$12.625   $-7.661   $-2.447\n",
       "$12.730   $-7.642   $-2.460\n",
       "$12.952   $-5.943   $-2.343\n",
       "\n",
       "[1256 rows x 2 columns]"
      ]
     },
     "execution_count": 116,
     "metadata": {},
     "output_type": "execute_result"
    }
   ],
   "source": [
    "pd_p = pd.pivot_table(df, index=[\"skew\"], aggfunc={\"entropy\":np.min, \"variance\":np.max})\n",
    "pd_p"
   ]
  },
  {
   "cell_type": "code",
   "execution_count": null,
   "metadata": {},
   "outputs": [],
   "source": []
  }
 ],
 "metadata": {
  "kernelspec": {
   "display_name": "Python 3",
   "language": "python",
   "name": "python3"
  },
  "language_info": {
   "codemirror_mode": {
    "name": "ipython",
    "version": 3
   },
   "file_extension": ".py",
   "mimetype": "text/x-python",
   "name": "python",
   "nbconvert_exporter": "python",
   "pygments_lexer": "ipython3",
   "version": "3.8.3"
  }
 },
 "nbformat": 4,
 "nbformat_minor": 4
}
